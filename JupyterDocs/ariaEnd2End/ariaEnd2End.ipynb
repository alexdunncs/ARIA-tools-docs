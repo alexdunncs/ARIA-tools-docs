{
 "cells": [
  {
   "cell_type": "markdown",
   "metadata": {},
   "source": [
    "# Example for settine up time-series processing\n",
    "\n",
    "**Author**: David Bekaert - Jet Propulsion Laboratory\n",
    "\n",
    "This notebook provides an example on how one could set up a processing stack and run it through MintPy procesisng. For detailed information on aria-tools one should look into the seperate ariaDownload, ariaExtract, ariaTSprep, and MintPy notebooks seperately.\n",
    "\n",
    "\n",
    "In this notebook, we give an example on how to process the main island of Hawaii uisng ARIA Geocoded UNWrapped interferogram (GUNW) products using on few user-defined parameters. \n",
    "\n",
    "    \n",
    "<div class=\"alert alert-warning\">\n",
    "Both the initial setup (<b>Prep A</b> section) and download of the data (<b>Prep B</b> section) should be run at the start of the notebook. All other sections (examples and applications) do not need to be run in order.\n",
    "</div>\n",
    "\n",
    "<div class=\"alert alert-danger\">\n",
    "<b>Potential Errors:</b> \n",
    "    \n",
    "- GDAL uses \"HDF5\" driver instead of \"netCDF/Network Common Data Format\" on GUNW products. Verify GDAL version >= 3.\n",
    "- ARIA-tools and MintPy needs to be installed to run this notebook.\n",
    "- Virtual data access requires additional pre-requisites as liste on the ARIA-tools website.\n",
    "</div>\n"
   ]
  },
  {
   "cell_type": "markdown",
   "metadata": {},
   "source": [
    "## Table of Contents:\n",
    "<a id='example_TOC'></a>"
   ]
  },
  {
   "cell_type": "markdown",
   "metadata": {},
   "source": [
    "[**1. Verifiy if pre-requisites are installed**](#prereq)\n",
    "\n",
    "[**2. User configurable inputs**](#inputs)\n",
    "\n",
    "[**3. Download of products - ariaDownload.py**](#download)\n",
    "\n",
    "[**4. Minimum overlap computation**](#overlap)\n",
    "\n",
    "[**5. Time-series preparation - ariaTSprep.py**](#tsprep)\n",
    "\n",
    "[**6. Time-series processing - MintPy**](#mintpy)"
   ]
  },
  {
   "cell_type": "markdown",
   "metadata": {},
   "source": [
    "## 1. Verifiy if pre-requisites are installed\n",
    "<a id='prereq'></a>"
   ]
  },
  {
   "cell_type": "markdown",
   "metadata": {},
   "source": [
    "Below we verify if aria-tools and mintpy are installed on your system."
   ]
  },
  {
   "cell_type": "code",
   "execution_count": 27,
   "metadata": {},
   "outputs": [
    {
     "name": "stdout",
     "output_type": "stream",
     "text": [
      "Tutorial directory:  /Users/dbekaert/Software/ARIA_tools/ARIA-tools-docs-clone/JupyterDocs/ariaEnd2End\n",
      "Looks like mintPy is not fully installed\n"
     ]
    }
   ],
   "source": [
    "import os\n",
    "tutorial_home_dir = os.path.abspath(os.getcwd())\n",
    "print(\"Tutorial directory: \", tutorial_home_dir)\n",
    "\n",
    "\n",
    "# Verifying if ARIA-tools is installed correctly\n",
    "try:\n",
    "    import ARIAtools.shapefile_util as shputil\n",
    "except:\n",
    "    raise Exception('ARIA-tools is missing from your PYTHONPATH')\n",
    " \n",
    "# Verifying if Mintpy is installed correctly\n",
    "# verify if mintpy install is complete:\n",
    "try:\n",
    "    import numpy as np\n",
    "    from mintpy import view, tsview, plot_network, plot_transection, plot_coherence_matrix\n",
    "except:\n",
    "    print(\"Looks like mintPy is not fully installed\")\n",
    "    "
   ]
  },
  {
   "cell_type": "markdown",
   "metadata": {},
   "source": [
    "## 2. User configurable inputs\n",
    "<a id='inputs'></a>"
   ]
  },
  {
   "cell_type": "markdown",
   "metadata": {},
   "source": [
    "Below, are a minum of configurable parameters."
   ]
  },
  {
   "cell_type": "markdown",
   "metadata": {},
   "source": [
    "### 2.1 Workdirectory"
   ]
  },
  {
   "cell_type": "markdown",
   "metadata": {},
   "source": [
    "The working directory in which the outputs are organized in separate subdirectories."
   ]
  },
  {
   "cell_type": "code",
   "execution_count": 28,
   "metadata": {},
   "outputs": [],
   "source": [
    "work_dir = os.path.abspath(os.getcwd())"
   ]
  },
  {
   "cell_type": "markdown",
   "metadata": {},
   "source": [
    "### 2.2 Bounding Box"
   ]
  },
  {
   "cell_type": "markdown",
   "metadata": {},
   "source": [
    "The user can specify a rectangular bounding box (South-North-West-East coordinates) ` 'S N W E'` or can provide a more complex area of interest using a shapefile or geoJSON as ` path_to_file.shp`. A schematic example is shown in **Fig 1** for both scenarios.\n",
    "\n",
    "<img src=\"./support_docs/crop.png\" alt=\"cropping\" width=\"700\">\n",
    "<blockquote><center><b> Fig. 1 </b> Schematic examples of the user-specified area of interest. </center></blockquote>"
   ]
  },
  {
   "cell_type": "markdown",
   "metadata": {},
   "source": [
    "Below we include two scenario's for a use to pick from:"
   ]
  },
  {
   "cell_type": "code",
   "execution_count": 29,
   "metadata": {},
   "outputs": [],
   "source": [
    "bbox_SNWE = \"18.8 20.3 -156.1 -154.8\"\n",
    "bbox_shp = os.path.join(tutorial_home_dir, 'support_docs', 'Big_Island', 'Big_Island.shp')\n",
    "\n",
    "# Set the bbox to be used in subsequent processing:\n",
    "bbox = bbox_SNWE"
   ]
  },
  {
   "cell_type": "markdown",
   "metadata": {},
   "source": [
    "### 2.3 S1 track number "
   ]
  },
  {
   "cell_type": "markdown",
   "metadata": {},
   "source": [
    "Sentinel-1 track number (string) for which the data will be downloaded"
   ]
  },
  {
   "cell_type": "code",
   "execution_count": 30,
   "metadata": {},
   "outputs": [],
   "source": [
    "tracknumber = '124'"
   ]
  },
  {
   "cell_type": "markdown",
   "metadata": {},
   "source": [
    "### 2.4 Start and end time of Sentinel-1 period"
   ]
  },
  {
   "cell_type": "markdown",
   "metadata": {},
   "source": [
    "Start and end time of the Sentinel-1 record provided in YYYYMMDD string format."
   ]
  },
  {
   "cell_type": "code",
   "execution_count": 31,
   "metadata": {},
   "outputs": [],
   "source": [
    "start = '20181215'\n",
    "end = '20190101'"
   ]
  },
  {
   "cell_type": "markdown",
   "metadata": {},
   "source": [
    "### 2.5 Download format"
   ]
  },
  {
   "cell_type": "markdown",
   "metadata": {},
   "source": [
    "If your machine support virtual data access, see [here](https://github.com/aria-tools/ARIA-tools#aria-tools-with-support-for-s3-virtual-data-access) for the requirements, one can opt to avoid data-download from S3."
   ]
  },
  {
   "cell_type": "code",
   "execution_count": 32,
   "metadata": {},
   "outputs": [],
   "source": [
    "# True/False for using virtual data download\n",
    "virtualDownload = False\n",
    "\n",
    "\n",
    "# no changes needed below\n",
    "# Selecting the download option to be used in subsequent processing.\n",
    "if virtualDownload:\n",
    "    download = 'url'\n",
    "    downloadDir = os.path.join(work_dir,'URLproducts')\n",
    "else:\n",
    "    download = 'download'\n",
    "    downloadDir = os.path.join(work_dir,'products')\n",
    "    "
   ]
  },
  {
   "cell_type": "markdown",
   "metadata": {},
   "source": [
    "### 2.6 Summary of user inputs:"
   ]
  },
  {
   "cell_type": "code",
   "execution_count": 33,
   "metadata": {},
   "outputs": [
    {
     "name": "stdout",
     "output_type": "stream",
     "text": [
      "Work directory:  /Users/dbekaert/Software/ARIA_tools/ARIA-tools-docs-clone/JupyterDocs/ariaEnd2End\n",
      "Download:  download\n",
      "Start:  20181215\n",
      "End:  20190101\n",
      "Track:  124\n",
      "bbox:  18.8 20.3 -156.1 -154.8\n"
     ]
    }
   ],
   "source": [
    "print(\"Work directory: \", work_dir)\n",
    "print(\"Download: \", download)\n",
    "print(\"Start: \", start)\n",
    "print(\"End: \", end)\n",
    "print(\"Track: \", tracknumber)\n",
    "print(\"bbox: \", bbox)"
   ]
  },
  {
   "cell_type": "markdown",
   "metadata": {},
   "source": [
    "## 3. Download of products\n",
    "<a id='download'></a>"
   ]
  },
  {
   "cell_type": "markdown",
   "metadata": {},
   "source": [
    "Will use ariaDownload to download the products. Netcdf products will be downloaded unless the virtual data option was selected, which downloads a list of product URL locations in S3.."
   ]
  },
  {
   "cell_type": "code",
   "execution_count": 74,
   "metadata": {},
   "outputs": [
    {
     "name": "stdout",
     "output_type": "stream",
     "text": [
      "https://api.daac.asf.alaska.edu/services/search/param?asfplatform=Sentinel-1%20Interferogram%20(BETA)&processingLevel=GUNW_STD&output=JSON&relativeOrbit=124&bbox=-156.1,18.8,-154.8,20.3\n",
      " > attempting to download https://urs.earthdata.nasa.gov/profile\n",
      " > Re-using previous cookie jar.\n",
      " > Download file S1-GUNW-A-R-124-tops-20181222_20181216-043022-21160N_19087N-PP-20dd-v2_0_1.nc exists! \n",
      " > Skipping download of https://grfn.asf.alaska.edu/door/download/S1-GUNW-A-R-124-tops-20181222_20181216-043022-21160N_19087N-PP-20dd-v2_0_1.nc. \n",
      " > Download file S1-GUNW-A-R-124-tops-20181222_20181216-042955-19662N_17420N-PP-52b3-v2_0_1.nc exists! \n",
      " > Skipping download of https://grfn.asf.alaska.edu/door/download/S1-GUNW-A-R-124-tops-20181222_20181216-042955-19662N_17420N-PP-52b3-v2_0_1.nc. \n",
      "\n",
      "\n",
      "Download Summary \n",
      "--------------------------------------------------------------------------------\n",
      "  Successes: 0 files, 0 bytes \n",
      "  Skipped: 2 files\n",
      "          - https://grfn.asf.alaska.edu/door/download/S1-GUNW-A-R-124-tops-20181222_20181216-043022-21160N_19087N-PP-20dd-v2_0_1.nc\n",
      "          - https://grfn.asf.alaska.edu/door/download/S1-GUNW-A-R-124-tops-20181222_20181216-042955-19662N_17420N-PP-52b3-v2_0_1.nc\n",
      "--------------------------------------------------------------------------------\n"
     ]
    }
   ],
   "source": [
    "!ariaDownload.py -t {tracknumber} -w {downloadDir} -b \"{bbox}\" -s {start} -e {end} -o {download}"
   ]
  },
  {
   "cell_type": "markdown",
   "metadata": {},
   "source": [
    "## 4. Minimum overlap computation\n",
    "<a id='overlap'></a>"
   ]
  },
  {
   "cell_type": "markdown",
   "metadata": {},
   "source": [
    "The minimum area threshold can be used to reject those inteferferograms for which the intersection with the bounding box does not meet a minimum area overlap as set by the user. As long as the user study-area is within one of the ARIA production AOI's, there should always be a temporally conencted network, although partial intererograms can exist when the user study-area covers multiple ARIA production AOI's.\n",
    "\n",
    "We will enforce that interferograms needs to compeltely cover the study area of the user. To do so we will calculate what this area will be in advsance and then specify it as a threshold in subsequent processing. \n",
    "\n",
    "We will apply the following steps:\n",
    "- We will estiamte the ground swath by using historic SLC data for the given track and bounding box. We will leverage for this the DAAC api to retreive SLC granule bounding boxes and take the union of these as indicator for the ground track.\n",
    "- We will intersect the user boundingbox with this ground track to compute and calculate its area to estiamte the  spatial coverage of Sentinel-1 within the users study area.\n"
   ]
  },
  {
   "cell_type": "markdown",
   "metadata": {},
   "source": [
    "### Estimating the S1 ground swath"
   ]
  },
  {
   "cell_type": "markdown",
   "metadata": {},
   "source": [
    "First we will qeuerry the DAAC api for historic data and retrieve a CSV file with meta-data."
   ]
  },
  {
   "cell_type": "code",
   "execution_count": 43,
   "metadata": {},
   "outputs": [
    {
     "name": "stdout",
     "output_type": "stream",
     "text": [
      "https://api.daac.asf.alaska.edu/services/search/param?platform=SENTINEL-1&processinglevel=SLC&beamSwath=IW&output=CSV&maxResults=5000000&relativeOrbit=124&bbox=-156.1,18.8,-154.8,20.3\n",
      "--2020-07-21 07:03:00--  https://api.daac.asf.alaska.edu/services/search/param?platform=SENTINEL-1&processinglevel=SLC&beamSwath=IW&output=CSV&maxResults=5000000&relativeOrbit=124&bbox=-156.1,18.8,-154.8,20.3\n",
      "Resolving api.daac.asf.alaska.edu (api.daac.asf.alaska.edu)... 3.215.210.44, 52.72.162.97\n",
      "Connecting to api.daac.asf.alaska.edu (api.daac.asf.alaska.edu)|3.215.210.44|:443... connected.\n",
      "HTTP request sent, awaiting response... 200 OK\n",
      "Length: unspecified [text/csv]\n",
      "Saving to: ‘test.csv’\n",
      "\n",
      "test.csv                [         <=>        ] 351.00K   112KB/s    in 3.1s    \n",
      "\n",
      "2020-07-21 07:03:03 (112 KB/s) - ‘test.csv’ saved [359419]\n",
      "\n"
     ]
    }
   ],
   "source": [
    "## Caling the DAAC API and retrieving the SLCs outlines\n",
    "# checking if bbox exist\n",
    "from ARIAtools.shapefile_util import open_shapefile\n",
    "if os.path.exists(os.path.abspath(bbox)):\n",
    "    bounds = open_shapefile(bbox, 0, 0).bounds\n",
    "    W,S,E,N = [str(i) for i in bounds]\n",
    "else:\n",
    "    try:\n",
    "        S, N, W, E = bbox.split()\n",
    "    except:\n",
    "        raise Exception('Cannot understand the --bbox argument. Input string was entered incorrectly or path does not exist.')\n",
    "\n",
    "url_base    = 'https://api.daac.asf.alaska.edu/services/search/param?'\n",
    "url = '{}platform=SENTINEL-1&processinglevel=SLC&beamSwath=IW&output=CSV&maxResults=5000000'.format(url_base)\n",
    "url += '&relativeOrbit={}'.format(tracknumber)\n",
    "url += '&bbox=' + ','.join([W,S,E,N])\n",
    "\n",
    "# could also include start and end time for period. Needs to be of the form:\n",
    "#start=2018-12-15T00:00:00.000Z&end=2019-01-01T23:00:00.000Z\n",
    "\n",
    "url = url.replace(' ', '+')\n",
    "print (url)\n",
    "\n",
    "!wget -O test.csv \"{url}\""
   ]
  },
  {
   "cell_type": "markdown",
   "metadata": {},
   "source": [
    "Next we will load the meta-data and merge all the SLC granules to estimate the ground swath"
   ]
  },
  {
   "cell_type": "code",
   "execution_count": 46,
   "metadata": {},
   "outputs": [
    {
     "name": "stdout",
     "output_type": "stream",
     "text": [
      "POLYGON ((-154.0474148747312 17.68374737840119, -154.047348 17.683403, -154.0473518656033 17.68340228646121, -154.047272 17.682991, -156.375031 17.253328, -156.3750763901162 17.25354629054082, -156.375793 17.253414, -156.3757938533037 17.25341810323907, -156.375854 17.253407, -156.375862802599 17.25344932866857, -156.37587 17.253448, -156.3758811336548 17.2535015390008, -156.37648 17.253391, -156.3766157427139 17.25404376540238, -156.377167 17.253942, -156.3772166273392 17.25418063774645, -156.377258 17.254173, -156.3772665568825 17.25421414264429, -156.377289 17.25421, -156.3773128818507 17.2543248524389, -156.37735 17.254318, -156.3774161487335 17.25463606181115, -156.377579 17.254606, -156.5162124922642 17.92120737578276, -156.51622 17.921206, -156.8528715016432 19.53636836768914, -156.8754851546709 19.64421692597727, -156.875763 19.644167, -157.066757 20.555923, -157.0666552026215 20.55594109695356, -157.182022 21.106146, -157.1813678743961 21.10626151749542, -157.181412 21.106472, -157.1812871511675 21.10649404597226, -157.181427 21.107161, -157.1811206529645 21.10721509880844, -157.215866 21.272808, -157.2158559980457 21.27280976282028, -157.216141 21.274168, -157.2155416200474 21.27427363261155, -157.215561 21.274366, -157.2153382954683 21.27440524837274, -157.215363 21.274523, -157.2141913910529 21.2747294509525, -157.248871 21.439939, -157.2482821102465 21.44004256626239, -157.248367 21.440447, -157.2472049266764 21.44065135693614, -157.247208 21.440666, -156.2463872751156 21.61665060307218, -154.857483 21.860897, -154.8574790509917 21.86087662322618, -154.856476 21.861053, -154.6536414944641 20.81433154296146, -154.652252 20.814579, -154.652230644009 20.8144688872024, -154.652084 20.814495, -154.303284 19.015776, -154.3042169292073 19.01560636191462, -154.239609 18.68252, -154.2400837273415 18.68243335557774, -154.240021 18.68211, -154.24043320766 18.68203475858672, -154.208206 18.515915, -154.2089414546547 18.51578050922278, -154.047379 17.683754, -154.0474148747312 17.68374737840119))\n"
     ]
    }
   ],
   "source": [
    "import pandas as pd\n",
    "from ARIAtools.shapefile_util import shapefile_area\n",
    "from shapely.geometry import Polygon\n",
    "\n",
    "\n",
    "track_metadata=pd.read_csv('test.csv',index_col=False)\n",
    "\n",
    "# Compute polygons\n",
    "SLCPolygons=[]\n",
    "for frameNdx,frame in track_metadata.iterrows():\n",
    "    # Convert frame coords to polygon\n",
    "    SLCPolygons.append(polygonFromFrame(frame))\n",
    "\n",
    "# Find union of polygons\n",
    "swathPolygon=SLCPolygons[0]\n",
    "for SLCPolygon in SLCPolygons:\n",
    "    swathPolygon=swathPolygon.union(SLCPolygon)\n",
    "print(swathPolygon)\n",
    "\n",
    "\n",
    "def polygonFromFrame(frame):\n",
    "    '''\n",
    "        Create a Shapely polygon from the coordinates of a frame.\n",
    "    '''\n",
    "    P=Polygon([(float(frame['Near Start Lon']),float(frame['Near Start Lat'])),\n",
    "                (float(frame['Far Start Lon']),float(frame['Far Start Lat'])),\n",
    "                (float(frame['Far End Lon']),float(frame['Far End Lat'])),\n",
    "                (float(frame['Near End Lon']),float(frame['Near End Lat']))])\n",
    "    return P\n",
    "\n"
   ]
  },
  {
   "cell_type": "markdown",
   "metadata": {},
   "source": [
    "### Estimating the minimum overlap by intersection of the ground track and user boundingbox"
   ]
  },
  {
   "cell_type": "code",
   "execution_count": 56,
   "metadata": {},
   "outputs": [
    {
     "name": "stdout",
     "output_type": "stream",
     "text": [
      "Common intersection has an area of 118873.002094km²\n",
      "Minimum Area threshold set to 90% or 106985.701884km²\n"
     ]
    }
   ],
   "source": [
    "# TODO convert the bbox in a shapefile (SNWG option), or load the shapefile (shapefile option)\n",
    "swathPolygon\n",
    "bboxPolygon = swathPolygon\n",
    "\n",
    "# TODO use shapely intersect function.\n",
    "bboxSwathPolygon=bboxPolygon.intersection(swathPolygon)\n",
    "\n",
    "# TODO calculate shapely area.\n",
    "minOverlap = shapefile_area(bboxSwathPolygon)\n",
    "print(\"Common intersection has an area of %fkm\\u00b2\"%(minOverlap))\n",
    "\n",
    "\n",
    "# TODO for numerical issue, should make this area threshold a little bit smaller. i.e. 90% or so\n",
    "minOverlap = minOverlap*0.9\n",
    "print(\"Minimum Area threshold set to 90%\" + \" or %fkm\\u00b2\"%(minOverlap))"
   ]
  },
  {
   "cell_type": "markdown",
   "metadata": {},
   "source": [
    "## 5. Time-series preparation\n",
    "<a id='tsprep'></a>"
   ]
  },
  {
   "cell_type": "markdown",
   "metadata": {},
   "source": [
    "Next we will use ariaTSprep to prepapre for time-series processing. This includes the stitching of individual products, and extraction of the inputs expected by MintPy. "
   ]
  },
  {
   "cell_type": "code",
   "execution_count": 57,
   "metadata": {},
   "outputs": [
    {
     "name": "stdout",
     "output_type": "stream",
     "text": [
      "***Time-series Preparation Function:***\n",
      "Shapefile ./user_bbox.json created for input user bounds.\n",
      "Multi-core version\n",
      "/Users/dbekaert/Software/ARIA_tools/ARIA-tools-docs-clone/JupyterDocs/ariaEnd2End/products/download_products_124track_0.txt is not a supported file type... skipping\n",
      "/Users/dbekaert/Software/ARIA_tools/ARIA-tools-docs-clone/JupyterDocs/ariaEnd2End/products/download_products_124track_1.txt is not a supported file type... skipping\n",
      "Multi-core version failed, will try single for loop\n",
      "/Users/dbekaert/Software/ARIA_tools/ARIA-tools-docs-clone/JupyterDocs/ariaEnd2End/products/download_products_124track_0.txt is not a supported file type... skipping\n",
      "/Users/dbekaert/Software/ARIA_tools/ARIA-tools-docs-clone/JupyterDocs/ariaEnd2End/products/download_products_124track_1.txt is not a supported file type... skipping\n",
      "3 out of 5 GUNW products rejected for not meeting user's bbox spatial criteria\n",
      "Group GUNW products into spatiotemporally continuous interferograms.\n",
      "All (1) interferograms are spatially continuous.\n",
      "Thread count specified for gdal multiprocessing = 2\n",
      "Traceback (most recent call last):\n",
      "  File \"/Users/dbekaert/Software/python/miniconda37/envs/ARIA-tools_latest/bin/ariaTSsetup.py\", line 15, in <module>\n",
      "    main(inps)\n",
      "  File \"/Users/dbekaert/Software/python/miniconda37/envs/ARIA-tools_latest/lib/python3.8/site-packages/ARIAtools/tsSetup.py\", line 254, in main\n",
      "    standardproduct_info.products[0], standardproduct_info.products[1], standardproduct_info.bbox_file, prods_TOTbbox, prods_TOTbbox_metadatalyr, arrshape, proj = merged_productbbox(standardproduct_info.products[0], standardproduct_info.products[1], os.path.join(inps.workdir,'productBoundingBox'), standardproduct_info.bbox_file, inps.croptounion, num_threads=inps.num_threads, minimumOverlap=inps.minimumOverlap, verbose=inps.verbose)\n",
      "  File \"/Users/dbekaert/Software/python/miniconda37/envs/ARIA-tools_latest/lib/python3.8/site-packages/ARIAtools/extractProduct.py\", line 180, in merged_productbbox\n",
      "    raise Exception(\"User bound box '%s' has an area of only %fkm\\u00b2, below specified minimum threshold area %fkm\\u00b2\"%(bbox_file,overlap_area,minimumOverlap))\n",
      "Exception: User bound box './user_bbox.json' has an area of only 22652.025670km², below specified minimum threshold area 106985.701884km²\n"
     ]
    }
   ],
   "source": [
    "!ariaTSsetup.py -f \"{downloadDir}/*\" -b \"{bbox}\" --mask Download --dem Download -mo {minOverlap}"
   ]
  },
  {
   "cell_type": "markdown",
   "metadata": {},
   "source": [
    "Three VRT files *cohStack.vrt*, *connCompStack.vrt*, *unwrapStack.vrt* have been generated under the *stack* subdirectory of your specified work directory. They point to your extracted coherence, connected component, and unwrapped phase files, respectively. The relevant meta-data is directly embedded within these vrt stacks. Note that these VRT stack files are virtual files pointing to individual interferograms in the *unwrappedPhase* and *coherence* directories. In addition, a DEM file (*SRTM_3arcsec.dem*) and water mask (*watermask.msk*) have been downloaded in respectively the *dem* and *mask* folders"
   ]
  },
  {
   "cell_type": "code",
   "execution_count": 76,
   "metadata": {},
   "outputs": [
    {
     "name": "stdout",
     "output_type": "stream",
     "text": [
      "stack//cohStack.vrt      stack//connCompStack.vrt stack//unwrapStack.vrt\n",
      "dem/SRTM_3arcsec.dem\n",
      "mask/watermask.msk\n"
     ]
    }
   ],
   "source": [
    "!ls stack//*\n",
    "!ls dem/SRTM_3arcsec.dem\n",
    "!ls mask/watermask.msk"
   ]
  },
  {
   "cell_type": "markdown",
   "metadata": {},
   "source": [
    "## 6. Time-series processing \n",
    "<a id='mintpy'></a>"
   ]
  },
  {
   "cell_type": "code",
   "execution_count": 77,
   "metadata": {},
   "outputs": [
    {
     "name": "stdout",
     "output_type": "stream",
     "text": [
      "Traceback (most recent call last):\r\n",
      "  File \"/Users/dbekaert/Software/Mintpy/PySAR_home/mintpy/objects/resample.py\", line 11, in <module>\r\n",
      "    import pyresample as pr\r\n",
      "ModuleNotFoundError: No module named 'pyresample'\r\n",
      "\r\n",
      "During handling of the above exception, another exception occurred:\r\n",
      "\r\n",
      "Traceback (most recent call last):\r\n",
      "  File \"/Users/dbekaert/Software/Mintpy/PySAR_home/mintpy/smallbaselineApp.py\", line 21, in <module>\r\n",
      "    import mintpy.workflow  #dynamic import for modules used by smallbaselineApp workflow\r\n",
      "  File \"/Users/dbekaert/Software/Mintpy/PySAR_home/mintpy/workflow/__init__.py\", line 36, in <module>\r\n",
      "    importlib.import_module(root_module + '.' + module)\r\n",
      "  File \"/Users/dbekaert/Software/python/miniconda37/envs/ARIA-tools_latest/lib/python3.8/importlib/__init__.py\", line 127, in import_module\r\n",
      "    return _bootstrap._gcd_import(name[level:], package, level)\r\n",
      "  File \"/Users/dbekaert/Software/Mintpy/PySAR_home/mintpy/geocode.py\", line 16, in <module>\r\n",
      "    from mintpy.objects.resample import resample\r\n",
      "  File \"/Users/dbekaert/Software/Mintpy/PySAR_home/mintpy/objects/resample.py\", line 13, in <module>\r\n",
      "    raise ImportError('Can not import pyresample!')\r\n",
      "ImportError: Can not import pyresample!\r\n"
     ]
    }
   ],
   "source": [
    "!smallbaselineApp.py -t TStemplate.txt --dostep load_data\n"
   ]
  },
  {
   "cell_type": "code",
   "execution_count": null,
   "metadata": {},
   "outputs": [],
   "source": []
  }
 ],
 "metadata": {
  "kernelspec": {
   "display_name": "Python 3",
   "language": "python",
   "name": "python3"
  },
  "language_info": {
   "codemirror_mode": {
    "name": "ipython",
    "version": 3
   },
   "file_extension": ".py",
   "mimetype": "text/x-python",
   "name": "python",
   "nbconvert_exporter": "python",
   "pygments_lexer": "ipython3",
   "version": "3.8.3"
  }
 },
 "nbformat": 4,
 "nbformat_minor": 4
}
