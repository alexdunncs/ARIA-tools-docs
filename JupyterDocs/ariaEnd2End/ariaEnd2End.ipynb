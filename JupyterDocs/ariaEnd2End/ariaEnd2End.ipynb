{
 "cells": [
  {
   "cell_type": "markdown",
   "metadata": {},
   "source": [
    "# Example for settine up time-series processing\n",
    "\n",
    "**Author**: David Bekaert - Jet Propulsion Laboratory\n",
    "\n",
    "This notebook provides an example on how one could set up a processing stack and run it through MintPy procesisng. For detailed information on aria-tools one should look into the seperate ariaDownload, ariaExtract, ariaTSprep, and MintPy notebooks seperately.\n",
    "\n",
    "\n",
    "In this notebook, we give an example on how to process the main island of Hawaii uisng ARIA Geocoded UNWrapped interferogram (GUNW) products using on few user-defined parameters. \n",
    "\n",
    "    \n",
    "<div class=\"alert alert-warning\">\n",
    "Both the initial setup (<b>Prep A</b> section) and download of the data (<b>Prep B</b> section) should be run at the start of the notebook. All other sections (examples and applications) do not need to be run in order.\n",
    "</div>\n",
    "\n",
    "<div class=\"alert alert-danger\">\n",
    "<b>Potential Errors:</b> \n",
    "    \n",
    "- GDAL uses \"HDF5\" driver instead of \"netCDF/Network Common Data Format\" on GUNW products. Verify GDAL version >= 3.\n",
    "- ARIA-tools and MintPy needs to be installed to run this notebook.\n",
    "- Virtual data access requires additional pre-requisites as liste on the ARIA-tools website.\n",
    "</div>\n"
   ]
  },
  {
   "cell_type": "markdown",
   "metadata": {},
   "source": [
    "## Table of Contents:\n",
    "<a id='example_TOC'></a>"
   ]
  },
  {
   "cell_type": "markdown",
   "metadata": {},
   "source": [
    "[**1. Verifiy if pre-requisites are installed**](#prereq)\n",
    "\n",
    "[**2. User configurable inputs**](#inputs)\n",
    "\n",
    "[**3. Download of products - ariaDownload.py**](#download)\n",
    "\n",
    "[**4. Minimum overlap computation**](#overlap)\n",
    "\n",
    "[**5. Time-series preparation - ariaTSprep.py**](#tsprep)\n",
    "\n",
    "[**6. Time-series processing - MintPy**](#mintpy)"
   ]
  },
  {
   "cell_type": "markdown",
   "metadata": {},
   "source": [
    "## 1. Verifiy if pre-requisites are installed\n",
    "<a id='prereq'></a>"
   ]
  },
  {
   "cell_type": "markdown",
   "metadata": {},
   "source": [
    "Below we verify if aria-tools and mintpy are installed on your system."
   ]
  },
  {
   "cell_type": "code",
   "execution_count": 67,
   "metadata": {},
   "outputs": [
    {
     "name": "stdout",
     "output_type": "stream",
     "text": [
      "Tutorial directory:  /Users/dbekaert/Software/ARIA_tools/ARIA-tools-docs-clone/JupyterDocs/ariaEnd2End\n",
      "Looks like mintPy is not fully installed\n"
     ]
    }
   ],
   "source": [
    "import os\n",
    "tutorial_home_dir = os.path.abspath(os.getcwd())\n",
    "print(\"Tutorial directory: \", tutorial_home_dir)\n",
    "\n",
    "\n",
    "# Verifying if ARIA-tools is installed correctly\n",
    "try:\n",
    "    import ARIAtools.shapefile_util as shputil\n",
    "except:\n",
    "    raise Exception('ARIA-tools is missing from your PYTHONPATH')\n",
    " \n",
    "# Verifying if Mintpy is installed correctly\n",
    "# verify if mintpy install is complete:\n",
    "try:\n",
    "    import numpy as np\n",
    "    from mintpy import view, tsview, plot_network, plot_transection, plot_coherence_matrix\n",
    "except:\n",
    "    print(\"Looks like mintPy is not fully installed\")\n",
    "    "
   ]
  },
  {
   "cell_type": "markdown",
   "metadata": {},
   "source": [
    "## 2. User configurable inputs\n",
    "<a id='inputs'></a>"
   ]
  },
  {
   "cell_type": "markdown",
   "metadata": {},
   "source": [
    "Below, are a minum of configurable parameters."
   ]
  },
  {
   "cell_type": "markdown",
   "metadata": {},
   "source": [
    "### 2.1 Workdirectory"
   ]
  },
  {
   "cell_type": "markdown",
   "metadata": {},
   "source": [
    "The working directory in which the outputs are organized in separate subdirectories."
   ]
  },
  {
   "cell_type": "code",
   "execution_count": 68,
   "metadata": {},
   "outputs": [],
   "source": [
    "work_dir = os.path.abspath(os.getcwd())"
   ]
  },
  {
   "cell_type": "markdown",
   "metadata": {},
   "source": [
    "### 2.2 Bounding Box"
   ]
  },
  {
   "cell_type": "markdown",
   "metadata": {},
   "source": [
    "The user can specify a rectangular bounding box (South-North-West-East coordinates) ` 'S N W E'` or can provide a more complex area of interest using a shapefile or geoJSON as ` path_to_file.shp`. A schematic example is shown in **Fig 1** for both scenarios.\n",
    "\n",
    "<img src=\"./support_docs/crop.png\" alt=\"cropping\" width=\"700\">\n",
    "<blockquote><center><b> Fig. 1 </b> Schematic examples of the user-specified area of interest. </center></blockquote>"
   ]
  },
  {
   "cell_type": "markdown",
   "metadata": {},
   "source": [
    "Below we include two scenario's for a use to pick from:"
   ]
  },
  {
   "cell_type": "code",
   "execution_count": 69,
   "metadata": {},
   "outputs": [],
   "source": [
    "bbox_SNWE = \"18.8 20.3 -156.1 -154.8\"\n",
    "bbox_shp = os.path.join(tutorial_home_dir, 'support_docs', 'Big_Island', 'Big_Island.shp')\n",
    "\n",
    "# Set the bbox to be used in subsequent processing:\n",
    "bbox = bbox_SNWE"
   ]
  },
  {
   "cell_type": "markdown",
   "metadata": {},
   "source": [
    "### 2.3 S1 track number "
   ]
  },
  {
   "cell_type": "markdown",
   "metadata": {},
   "source": [
    "Sentinel-1 track number (string) for which the data will be downloaded"
   ]
  },
  {
   "cell_type": "code",
   "execution_count": 70,
   "metadata": {},
   "outputs": [],
   "source": [
    "tracknumber = '124'"
   ]
  },
  {
   "cell_type": "markdown",
   "metadata": {},
   "source": [
    "### 2.4 Start and end time of Sentinel-1 period"
   ]
  },
  {
   "cell_type": "markdown",
   "metadata": {},
   "source": [
    "Start and end time of the Sentinel-1 record provided in YYYYMMDD string format."
   ]
  },
  {
   "cell_type": "code",
   "execution_count": 71,
   "metadata": {},
   "outputs": [],
   "source": [
    "start = '20181215'\n",
    "end = '20190101'"
   ]
  },
  {
   "cell_type": "markdown",
   "metadata": {},
   "source": [
    "### 2.5 Download format"
   ]
  },
  {
   "cell_type": "markdown",
   "metadata": {},
   "source": [
    "If your machine support virtual data access, see [here](https://github.com/aria-tools/ARIA-tools#aria-tools-with-support-for-s3-virtual-data-access) for the requirements, one can opt to avoid data-download from S3."
   ]
  },
  {
   "cell_type": "code",
   "execution_count": 72,
   "metadata": {},
   "outputs": [],
   "source": [
    "# True/False for using virtual data download\n",
    "virtualDownload = False\n",
    "\n",
    "# Selecting the download option to be used in subsequent processing.\n",
    "\n",
    "if virtualDownload:\n",
    "    download = 'url'\n",
    "    downloadDir = os.path.join(work_dir,'URLproducts')\n",
    "else:\n",
    "    download = 'download'\n",
    "    downloadDir = os.path.join(work_dir,'products')\n",
    "    "
   ]
  },
  {
   "cell_type": "markdown",
   "metadata": {},
   "source": [
    "### 2.6 Summary of user inputs:"
   ]
  },
  {
   "cell_type": "code",
   "execution_count": 73,
   "metadata": {},
   "outputs": [
    {
     "name": "stdout",
     "output_type": "stream",
     "text": [
      "Work directory:  /Users/dbekaert/Software/ARIA_tools/ARIA-tools-docs-clone/JupyterDocs/ariaEnd2End\n",
      "Download:  download\n",
      "Start:  20181215\n",
      "End:  20190101\n",
      "Track:  124\n",
      "bbox:  18.8 20.3 -156.1 -154.8\n"
     ]
    }
   ],
   "source": [
    "print(\"Work directory: \", work_dir)\n",
    "print(\"Download: \", download)\n",
    "print(\"Start: \", start)\n",
    "print(\"End: \", end)\n",
    "print(\"Track: \", tracknumber)\n",
    "print(\"bbox: \", bbox)"
   ]
  },
  {
   "cell_type": "markdown",
   "metadata": {},
   "source": [
    "## 3. Download of products\n",
    "<a id='download'></a>"
   ]
  },
  {
   "cell_type": "markdown",
   "metadata": {},
   "source": [
    "Will use ariaDownload to download the products. Netcdf products will be downloaded unless the virtual data option was selected, which downloads a list of product URL locations in S3.."
   ]
  },
  {
   "cell_type": "code",
   "execution_count": 74,
   "metadata": {},
   "outputs": [
    {
     "name": "stdout",
     "output_type": "stream",
     "text": [
      "https://api.daac.asf.alaska.edu/services/search/param?asfplatform=Sentinel-1%20Interferogram%20(BETA)&processingLevel=GUNW_STD&output=JSON&relativeOrbit=124&bbox=-156.1,18.8,-154.8,20.3\n",
      " > attempting to download https://urs.earthdata.nasa.gov/profile\n",
      " > Re-using previous cookie jar.\n",
      " > Download file S1-GUNW-A-R-124-tops-20181222_20181216-043022-21160N_19087N-PP-20dd-v2_0_1.nc exists! \n",
      " > Skipping download of https://grfn.asf.alaska.edu/door/download/S1-GUNW-A-R-124-tops-20181222_20181216-043022-21160N_19087N-PP-20dd-v2_0_1.nc. \n",
      " > Download file S1-GUNW-A-R-124-tops-20181222_20181216-042955-19662N_17420N-PP-52b3-v2_0_1.nc exists! \n",
      " > Skipping download of https://grfn.asf.alaska.edu/door/download/S1-GUNW-A-R-124-tops-20181222_20181216-042955-19662N_17420N-PP-52b3-v2_0_1.nc. \n",
      "\n",
      "\n",
      "Download Summary \n",
      "--------------------------------------------------------------------------------\n",
      "  Successes: 0 files, 0 bytes \n",
      "  Skipped: 2 files\n",
      "          - https://grfn.asf.alaska.edu/door/download/S1-GUNW-A-R-124-tops-20181222_20181216-043022-21160N_19087N-PP-20dd-v2_0_1.nc\n",
      "          - https://grfn.asf.alaska.edu/door/download/S1-GUNW-A-R-124-tops-20181222_20181216-042955-19662N_17420N-PP-52b3-v2_0_1.nc\n",
      "--------------------------------------------------------------------------------\n"
     ]
    }
   ],
   "source": [
    "!ariaDownload.py -t {tracknumber} -w {downloadDir} -b \"{bbox}\" -s {start} -e {end} -o {download}"
   ]
  },
  {
   "cell_type": "markdown",
   "metadata": {},
   "source": [
    "## 4. Minimum overlap computation\n",
    "<a id='overlap'></a>"
   ]
  },
  {
   "cell_type": "code",
   "execution_count": null,
   "metadata": {},
   "outputs": [],
   "source": []
  },
  {
   "cell_type": "markdown",
   "metadata": {},
   "source": [
    "## 5. Time-series preparation\n",
    "<a id='tsprep'></a>"
   ]
  },
  {
   "cell_type": "markdown",
   "metadata": {},
   "source": [
    "Next we will use ariaTSprep to prepapre for time-series processing. This includes the stitching of individual products, and extraction of the inputs expected by MintPy. "
   ]
  },
  {
   "cell_type": "code",
   "execution_count": 75,
   "metadata": {},
   "outputs": [
    {
     "name": "stdout",
     "output_type": "stream",
     "text": [
      "***Time-series Preparation Function:***\n",
      "Shapefile ./user_bbox.json created for input user bounds.\n",
      "Multi-core version\n",
      "/Users/dbekaert/Software/ARIA_tools/ARIA-tools-docs-clone/JupyterDocs/ariaEnd2End/products/download_products_124track_1.txt is not a supported file type... skipping\n",
      "/Users/dbekaert/Software/ARIA_tools/ARIA-tools-docs-clone/JupyterDocs/ariaEnd2End/products/download_products_124track_0.txt is not a supported file type... skipping\n",
      "Multi-core version failed, will try single for loop\n",
      "/Users/dbekaert/Software/ARIA_tools/ARIA-tools-docs-clone/JupyterDocs/ariaEnd2End/products/download_products_124track_0.txt is not a supported file type... skipping\n",
      "/Users/dbekaert/Software/ARIA_tools/ARIA-tools-docs-clone/JupyterDocs/ariaEnd2End/products/download_products_124track_1.txt is not a supported file type... skipping\n",
      "3 out of 5 GUNW products rejected for not meeting user's bbox spatial criteria\n",
      "Group GUNW products into spatiotemporally continuous interferograms.\n",
      "All (1) interferograms are spatially continuous.\n",
      "Thread count specified for gdal multiprocessing = 2\n",
      "Download/cropping DEM\n",
      "Downloaded 3 arc-sec SRTM DEM here: ./DEM/SRTM_3arcsec.dem\n",
      "***Downloading water mask... ***\n",
      "\n",
      "Extracting unwrapped phase, coherence, and connected components for each interferogram pair\n",
      "Generating: unwrappedPhase - [==================================================] 20181222_20181216 \n",
      "Generating: coherence - [==================================================] 20181222_20181216 \n",
      "\n",
      "Extracting single incidence angle, look angle and azimuth angle files valid over common interferometric grid\n",
      "Generating: incidenceAngle - [==================================================] 20181222_20181216 \n",
      "Generating: lookAngle - [==================================================] 20181222_20181216 \n",
      "Generating: azimuthAngle - [==================================================] 20181222_20181216 \n",
      "Directory ./stack already exists.\n",
      "Number of coherence discovered:  1\n",
      "[==================================================] 20181222_20181216 \n",
      "cohStack : stack generated\n",
      "Directory ./stack already exists.\n",
      "Number of connectedComponents discovered:  1\n",
      "[==================================================] 20181222_20181216 \n",
      "connCompStack : stack generated\n",
      "Directory ./stack already exists.\n",
      "Number of unwrapped interferograms discovered:  1\n",
      "[==================================================] 20181222_20181216 \n",
      "unwrapStack : stack generated\n"
     ]
    }
   ],
   "source": [
    "!ariaTSsetup.py -f \"{downloadDir}/*\" -b \"{bbox}\" --mask Download --dem Download"
   ]
  },
  {
   "cell_type": "markdown",
   "metadata": {},
   "source": [
    "Three VRT files *cohStack.vrt*, *connCompStack.vrt*, *unwrapStack.vrt* have been generated under the *stack* subdirectory of your specified work directory. They point to your extracted coherence, connected component, and unwrapped phase files, respectively. The relevant meta-data is directly embedded within these vrt stacks. Note that these VRT stack files are virtual files pointing to individual interferograms in the *unwrappedPhase* and *coherence* directories. In addition, a DEM file (*SRTM_3arcsec.dem*) and water mask (*watermask.msk*) have been downloaded in respectively the *dem* and *mask* folders"
   ]
  },
  {
   "cell_type": "code",
   "execution_count": 76,
   "metadata": {},
   "outputs": [
    {
     "name": "stdout",
     "output_type": "stream",
     "text": [
      "stack//cohStack.vrt      stack//connCompStack.vrt stack//unwrapStack.vrt\n",
      "dem/SRTM_3arcsec.dem\n",
      "mask/watermask.msk\n"
     ]
    }
   ],
   "source": [
    "!ls stack//*\n",
    "!ls dem/SRTM_3arcsec.dem\n",
    "!ls mask/watermask.msk"
   ]
  },
  {
   "cell_type": "markdown",
   "metadata": {},
   "source": [
    "## 6. Time-series processing \n",
    "<a id='mintpy'></a>"
   ]
  },
  {
   "cell_type": "code",
   "execution_count": 77,
   "metadata": {},
   "outputs": [
    {
     "name": "stdout",
     "output_type": "stream",
     "text": [
      "Traceback (most recent call last):\r\n",
      "  File \"/Users/dbekaert/Software/Mintpy/PySAR_home/mintpy/objects/resample.py\", line 11, in <module>\r\n",
      "    import pyresample as pr\r\n",
      "ModuleNotFoundError: No module named 'pyresample'\r\n",
      "\r\n",
      "During handling of the above exception, another exception occurred:\r\n",
      "\r\n",
      "Traceback (most recent call last):\r\n",
      "  File \"/Users/dbekaert/Software/Mintpy/PySAR_home/mintpy/smallbaselineApp.py\", line 21, in <module>\r\n",
      "    import mintpy.workflow  #dynamic import for modules used by smallbaselineApp workflow\r\n",
      "  File \"/Users/dbekaert/Software/Mintpy/PySAR_home/mintpy/workflow/__init__.py\", line 36, in <module>\r\n",
      "    importlib.import_module(root_module + '.' + module)\r\n",
      "  File \"/Users/dbekaert/Software/python/miniconda37/envs/ARIA-tools_latest/lib/python3.8/importlib/__init__.py\", line 127, in import_module\r\n",
      "    return _bootstrap._gcd_import(name[level:], package, level)\r\n",
      "  File \"/Users/dbekaert/Software/Mintpy/PySAR_home/mintpy/geocode.py\", line 16, in <module>\r\n",
      "    from mintpy.objects.resample import resample\r\n",
      "  File \"/Users/dbekaert/Software/Mintpy/PySAR_home/mintpy/objects/resample.py\", line 13, in <module>\r\n",
      "    raise ImportError('Can not import pyresample!')\r\n",
      "ImportError: Can not import pyresample!\r\n"
     ]
    }
   ],
   "source": [
    "!smallbaselineApp.py -t TStemplate.txt --dostep load_data\n"
   ]
  },
  {
   "cell_type": "code",
   "execution_count": null,
   "metadata": {},
   "outputs": [],
   "source": []
  }
 ],
 "metadata": {
  "kernelspec": {
   "display_name": "Python 3",
   "language": "python",
   "name": "python3"
  },
  "language_info": {
   "codemirror_mode": {
    "name": "ipython",
    "version": 3
   },
   "file_extension": ".py",
   "mimetype": "text/x-python",
   "name": "python",
   "nbconvert_exporter": "python",
   "pygments_lexer": "ipython3",
   "version": "3.8.3"
  }
 },
 "nbformat": 4,
 "nbformat_minor": 4
}
